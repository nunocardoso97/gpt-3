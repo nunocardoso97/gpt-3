{
 "cells": [
  {
   "cell_type": "code",
   "execution_count": 1,
   "metadata": {},
   "outputs": [],
   "source": [
    "import json\n",
    "import openai\n",
    "\n",
    "from gpt import GPT\n",
    "from gpt import Example\n",
    "\n",
    "import config "
   ]
  },
  {
   "cell_type": "code",
   "execution_count": 2,
   "metadata": {},
   "outputs": [],
   "source": [
    "# Reading the API key from a file\n",
    "service_key = config.api_key\n",
    "openai.api_key = service_key"
   ]
  },
  {
   "cell_type": "code",
   "execution_count": 7,
   "metadata": {},
   "outputs": [
    {
     "data": {
      "text/plain": [
       "'\\nI think the best way to learn data science is to do data science.\\n\\nI’ve been doing data science for a few years now, and I’ve learned a lot from doing it. I’ve learned a lot from reading books and blogs, but I’ve learned the most from doing it.\\n\\nI’ve learned a lot from doing data science, and I’ve learned a lot from reading books and blogs.\\n\\nI'"
      ]
     },
     "execution_count": 7,
     "metadata": {},
     "output_type": "execute_result"
    }
   ],
   "source": [
    "# Application 1 - Directly use as chatbot Use-case\n",
    "gpt1 = GPT(engine=\"davinci\", temperature=0.2, max_tokens=100)\n",
    "prompt1 = \"How to learn data science?\"\n",
    "output1 = gpt1.submit_request(prompt1)\n",
    "output1.choices[0].text"
   ]
  },
  {
   "cell_type": "code",
   "execution_count": 8,
   "metadata": {},
   "outputs": [],
   "source": [
    "# Application 2 - LaTex Use-case - Text to Equation\n",
    "gpt2 = GPT(engine=\"davinci\", temperature=0.5, max_tokens=100)\n",
    "# Directly use as chatbot\n",
    "gpt2.add_example(Example('Two plus two equals four', '2 + 2 = 4'))\n",
    "gpt2.add_example(Example('The integral from zero to infinity', '\\\\int_0^{\\\\infty}'))\n",
    "gpt2.add_example(Example('The gradient of x squared plus two times x with respect to x', '\\\\nabla_x x^2 + 2x'))\n",
    "gpt2.add_example(Example('The log of two times x', '\\\\log{2x}'))\n",
    "gpt2.add_example(Example('x squared plus y squared plus equals z squared', 'x^2 + y^2 = z^2'))\n"
   ]
  },
  {
   "cell_type": "code",
   "execution_count": 9,
   "metadata": {},
   "outputs": [
    {
     "data": {
      "text/plain": [
       "'output: x^2 + 2x\\n\\n'"
      ]
     },
     "execution_count": 9,
     "metadata": {},
     "output_type": "execute_result"
    }
   ],
   "source": [
    "prompt2 = \"x squared plus 2 times x\"\n",
    "output2 = gpt2.submit_request(prompt2)\n",
    "output2.choices[0].text"
   ]
  },
  {
   "cell_type": "code",
   "execution_count": 10,
   "metadata": {},
   "outputs": [],
   "source": [
    "# Application 3 - Translator Use-case\n",
    "gpt3 = GPT(engine=\"davinci\", temperature=0.5, max_tokens=100)\n",
    "gpt3.add_example(Example('What is your name?', 'quel est votre nom?'))\n",
    "gpt3.add_example(Example('What are you doing?', 'Que faites-vous?'))\n",
    "gpt3.add_example(Example('How are you?', 'Comment allez-vous?'))"
   ]
  },
  {
   "cell_type": "code",
   "execution_count": 11,
   "metadata": {},
   "outputs": [
    {
     "data": {
      "text/plain": [
       "'output: Où êtes-vous?\\n\\n'"
      ]
     },
     "execution_count": 11,
     "metadata": {},
     "output_type": "execute_result"
    }
   ],
   "source": [
    "prompt3 = \"where are you?\"\n",
    "output3 = gpt3.submit_request(prompt3)\n",
    "output3.choices[0].text"
   ]
  },
  {
   "cell_type": "code",
   "execution_count": null,
   "metadata": {},
   "outputs": [],
   "source": []
  }
 ],
 "metadata": {
  "kernelspec": {
   "display_name": "Python 3",
   "language": "python",
   "name": "python3"
  },
  "language_info": {
   "codemirror_mode": {
    "name": "ipython",
    "version": 3
   },
   "file_extension": ".py",
   "mimetype": "text/x-python",
   "name": "python",
   "nbconvert_exporter": "python",
   "pygments_lexer": "ipython3",
   "version": "3.8.5"
  }
 },
 "nbformat": 4,
 "nbformat_minor": 4
}
